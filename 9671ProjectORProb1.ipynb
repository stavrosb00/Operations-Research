{
 "cells": [
  {
   "cell_type": "code",
   "execution_count": 2,
   "id": "52111cf2",
   "metadata": {
    "scrolled": true
   },
   "outputs": [],
   "source": [
    "#prepei na einai egkatesthmena\n",
    "#pip install gurobipy\n",
    "#pip install numpy"
   ]
  },
  {
   "cell_type": "code",
   "execution_count": 3,
   "id": "ba413c0a",
   "metadata": {
    "scrolled": true
   },
   "outputs": [],
   "source": [
    "from gurobipy import *\n",
    "import numpy as np"
   ]
  },
  {
   "cell_type": "markdown",
   "id": "e0f6b6f7",
   "metadata": {},
   "source": [
    "#                    Σταύρος Βασίλειος Μπουλιόπουλος 9671 \n",
    "#                  Πρώτο πρόβλημα Επιχειρησιακής Έρευνας\n",
    "Πρώτο πρόβλημα Επιχειρησιακής Έρευνας για το εργοστάσιο παραγαγωγής χρωμάτων και τον διαδοχικό καθαρισμό χρωμάτων από τις μηχανές για την παραγωγή νέου.\n",
    "## Problem definition\n",
    "Έχω αποχρώσεις 1 εώς N=5. Χρώματα-colours $C = {1...N}$. Περίοδο παραγωγής για κάθε χρώμα i είναι $T_i$. Χρόνος καθαρισμού ετοιμασίας από χρώμα i σε j είναι $t_{ij}$. Μεταβλητή binary απόφασης $x_{ij}$ που ισούται με 1 αν πάρουμε χρώμα j μετά από το i.\n",
    "## Objective function\n",
    "Θέλω να ελαχιστοποιήσω τον χρόνο παραγωγής και καθαρισμού ,δηλαδή \n",
    "$$min \\sum_{i\\in c} \\sum_{j\\in c,j\\ne i} (T_i+t_{ij})\\cdot x_{ij} = total$$\n",
    "\n",
    "## Constraints-s.t.\n",
    "Εξηγούνται με σχόλια greeklish στον κώδικα."
   ]
  },
  {
   "cell_type": "code",
   "execution_count": 4,
   "id": "49dd24a4",
   "metadata": {},
   "outputs": [
    {
     "name": "stdout",
     "output_type": "stream",
     "text": [
      "Set parameter Username\n",
      "Academic license - for non-commercial use only - expires 2022-08-03\n"
     ]
    }
   ],
   "source": [
    "#affiliate pinakas sysxetishs \n",
    "t = np.array([[0, 11, 7, 13, 11],\n",
    "             [5, 0, 13, 15, 15],\n",
    "             [13, 15, 0, 23, 11],\n",
    "             [9, 13, 5, 0, 3],\n",
    "             [3, 7, 7, 7, 0]], np.int32)\n",
    "#fixed kostos to opoio den mas ephreazei sto optimization\n",
    "T = [40, 35, 45, 32, 50]\n",
    "mdl = Model('prob1')\n",
    "#mdl.setParam('OutputFlag', False)\n",
    "n = len(T)  #plh8os apoxrwsewn\n",
    "x = mdl.addMVar((t.shape[0],t.shape[1]), vtype = GRB.BINARY, name = \"x\")"
   ]
  },
  {
   "cell_type": "code",
   "execution_count": 5,
   "id": "c536ccc6",
   "metadata": {},
   "outputs": [],
   "source": [
    "#periorismoi s.t.\n",
    "for i in range(n):\n",
    "    #h diagwnios mou isoutai me mhden giati den mporw na exw diadoxh kai ka8arismo tou idiou xrwmatos\n",
    "    mdl.addConstr(x[i,i] == 0)\n",
    "    #to epomeno xrwma pros xrwmatismo einai mono 1\n",
    "    mdl.addConstr(sum(x[i,:]) == 1)\n",
    "    #den mporw na paragw 2 xrwmata thn idia xronikh stigmh\n",
    "    mdl.addConstr(sum(x[:,i]) == 1)\n",
    "\n",
    "#gia na apofygw anakyklwseis\n",
    "for i in range(n):\n",
    "    for j in range(n):\n",
    "        mdl.addConstr((x[i,j]+x[j,i]) <= 1)\n",
    "\n",
    "\n",
    "\n",
    "obj_fn = sum(x[i,j]*t[i,j] for i in range(n) for j in range(n))\n",
    "mdl.setObjective(obj_fn, GRB.MINIMIZE)\n",
    "\n",
    "mdl.setParam('OutputFlag', False)\n",
    "mdl.optimize()\n",
    "\n",
    "X = np.zeros(n*n)\n",
    "ct = 0\n",
    "for v in mdl.getVars():\n",
    "    X[ct] = int(v.x)\n",
    "    ct += 1"
   ]
  },
  {
   "cell_type": "code",
   "execution_count": 7,
   "id": "6ce866e8",
   "metadata": {},
   "outputs": [
    {
     "name": "stdout",
     "output_type": "stream",
     "text": [
      "gia beltisto ka8arismo apo\n",
      "1\n",
      "paw se\n",
      "4\n",
      "paw se\n",
      "3\n",
      "paw se\n",
      "5\n",
      "paw se\n",
      "2\n",
      "paw se\n",
      "1\n",
      "ekleise o kyklos, apo epomenh ebdomada pali\n",
      "41\n",
      "(standard xroniko kostos paragwghs 5 xrwmatwn=202 ) + (beltisto kostos \n",
      "diadoxikou ka8arismou=41 ) = synoliko kostos 243 lepta\n"
     ]
    }
   ],
   "source": [
    "X = np.reshape(X, (-1, 5))\n",
    "X = np.transpose(X)\n",
    "colourOrder = np.zeros(n+1)\n",
    "colourOrder[0] = 0; #1o xrwma \n",
    "stayWhile = True\n",
    "colourNow = 0\n",
    "currentIdx = 1\n",
    "while(stayWhile):\n",
    "    colourDiadoxh = -1; \n",
    "    for j in range(n):\n",
    "        if (X[colourNow,j] == 1):\n",
    "            colourDiadoxh = j \n",
    "\n",
    "    \n",
    "    colourOrder[currentIdx] = colourDiadoxh\n",
    "    colourNow = colourDiadoxh\n",
    "    currentIdx += 1\n",
    "    if (currentIdx > n):\n",
    "        stayWhile = False \n",
    "\n",
    "print(\"gia beltisto ka8arismo apo\")\n",
    "print(int(colourOrder[0])+1)\n",
    "totalColouring = sum(T)\n",
    "totalClean = 0\n",
    "for i in range(1,n+1):\n",
    "    \n",
    "    totalClean += t[int(colourOrder[i-1]),int(colourOrder[i])]\n",
    "    print(\"paw se\")\n",
    "    print(int(colourOrder[i])+1)\n",
    "    \n",
    "total = totalColouring + totalClean\n",
    "print(\"ekleise o kyklos, apo epomenh ebdomada pali\")\n",
    "print(totalClean)\n",
    "print(\"(standard xroniko kostos paragwghs 5 xrwmatwn={0} ) + (beltisto kostos \\ndiadoxikou ka8arismou={1} ) = synoliko kostos {2} lepta\".format(totalColouring, totalClean, total))"
   ]
  },
  {
   "cell_type": "code",
   "execution_count": null,
   "id": "306f011c",
   "metadata": {},
   "outputs": [],
   "source": []
  }
 ],
 "metadata": {
  "kernelspec": {
   "display_name": "Python 3 (ipykernel)",
   "language": "python",
   "name": "python3"
  },
  "language_info": {
   "codemirror_mode": {
    "name": "ipython",
    "version": 3
   },
   "file_extension": ".py",
   "mimetype": "text/x-python",
   "name": "python",
   "nbconvert_exporter": "python",
   "pygments_lexer": "ipython3",
   "version": "3.9.12"
  }
 },
 "nbformat": 4,
 "nbformat_minor": 5
}
